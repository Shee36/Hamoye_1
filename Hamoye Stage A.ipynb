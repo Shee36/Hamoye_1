{
 "cells": [
  {
   "cell_type": "code",
   "execution_count": 6,
   "id": "dd6a1e9f-be08-4c6e-bbd4-3073cd4e60f2",
   "metadata": {},
   "outputs": [],
   "source": [
    "import numpy as np\n",
    "import pandas as pd\n",
    "import seaborn as sns\n",
    "import matplotlib.pyplot as plt"
   ]
  },
  {
   "cell_type": "code",
   "execution_count": 7,
   "id": "6e1d75f2-7fd3-4178-991f-33f4bc2c1831",
   "metadata": {},
   "outputs": [
    {
     "data": {
      "text/html": [
       "<div>\n",
       "<style scoped>\n",
       "    .dataframe tbody tr th:only-of-type {\n",
       "        vertical-align: middle;\n",
       "    }\n",
       "\n",
       "    .dataframe tbody tr th {\n",
       "        vertical-align: top;\n",
       "    }\n",
       "\n",
       "    .dataframe thead th {\n",
       "        text-align: right;\n",
       "    }\n",
       "</style>\n",
       "<table border=\"1\" class=\"dataframe\">\n",
       "  <thead>\n",
       "    <tr style=\"text-align: right;\">\n",
       "      <th></th>\n",
       "      <th>Area Code</th>\n",
       "      <th>Area</th>\n",
       "      <th>Item Code</th>\n",
       "      <th>Item</th>\n",
       "      <th>Element Code</th>\n",
       "      <th>Element</th>\n",
       "      <th>Unit</th>\n",
       "      <th>Y2014</th>\n",
       "      <th>Y2015</th>\n",
       "      <th>Y2016</th>\n",
       "      <th>Y2017</th>\n",
       "      <th>Y2018</th>\n",
       "    </tr>\n",
       "  </thead>\n",
       "  <tbody>\n",
       "    <tr>\n",
       "      <th>0</th>\n",
       "      <td>4</td>\n",
       "      <td>Algeria</td>\n",
       "      <td>2501</td>\n",
       "      <td>Population</td>\n",
       "      <td>511</td>\n",
       "      <td>Total Population - Both sexes</td>\n",
       "      <td>1000 persons</td>\n",
       "      <td>38924.00</td>\n",
       "      <td>39728.00</td>\n",
       "      <td>40551.00</td>\n",
       "      <td>41389.00</td>\n",
       "      <td>42228.00</td>\n",
       "    </tr>\n",
       "    <tr>\n",
       "      <th>1</th>\n",
       "      <td>4</td>\n",
       "      <td>Algeria</td>\n",
       "      <td>2501</td>\n",
       "      <td>Population</td>\n",
       "      <td>5301</td>\n",
       "      <td>Domestic supply quantity</td>\n",
       "      <td>1000 tonnes</td>\n",
       "      <td>0.00</td>\n",
       "      <td>0.00</td>\n",
       "      <td>0.00</td>\n",
       "      <td>0.00</td>\n",
       "      <td>0.00</td>\n",
       "    </tr>\n",
       "    <tr>\n",
       "      <th>2</th>\n",
       "      <td>4</td>\n",
       "      <td>Algeria</td>\n",
       "      <td>2901</td>\n",
       "      <td>Grand Total</td>\n",
       "      <td>664</td>\n",
       "      <td>Food supply (kcal/capita/day)</td>\n",
       "      <td>kcal/capita/day</td>\n",
       "      <td>3377.00</td>\n",
       "      <td>3379.00</td>\n",
       "      <td>3372.00</td>\n",
       "      <td>3341.00</td>\n",
       "      <td>3322.00</td>\n",
       "    </tr>\n",
       "    <tr>\n",
       "      <th>3</th>\n",
       "      <td>4</td>\n",
       "      <td>Algeria</td>\n",
       "      <td>2901</td>\n",
       "      <td>Grand Total</td>\n",
       "      <td>674</td>\n",
       "      <td>Protein supply quantity (g/capita/day)</td>\n",
       "      <td>g/capita/day</td>\n",
       "      <td>94.90</td>\n",
       "      <td>94.35</td>\n",
       "      <td>94.72</td>\n",
       "      <td>92.82</td>\n",
       "      <td>91.83</td>\n",
       "    </tr>\n",
       "    <tr>\n",
       "      <th>4</th>\n",
       "      <td>4</td>\n",
       "      <td>Algeria</td>\n",
       "      <td>2901</td>\n",
       "      <td>Grand Total</td>\n",
       "      <td>684</td>\n",
       "      <td>Fat supply quantity (g/capita/day)</td>\n",
       "      <td>g/capita/day</td>\n",
       "      <td>80.06</td>\n",
       "      <td>79.36</td>\n",
       "      <td>77.40</td>\n",
       "      <td>80.19</td>\n",
       "      <td>77.28</td>\n",
       "    </tr>\n",
       "  </tbody>\n",
       "</table>\n",
       "</div>"
      ],
      "text/plain": [
       "   Area Code     Area  Item Code         Item  Element Code  \\\n",
       "0          4  Algeria       2501   Population           511   \n",
       "1          4  Algeria       2501   Population          5301   \n",
       "2          4  Algeria       2901  Grand Total           664   \n",
       "3          4  Algeria       2901  Grand Total           674   \n",
       "4          4  Algeria       2901  Grand Total           684   \n",
       "\n",
       "                                  Element             Unit     Y2014  \\\n",
       "0           Total Population - Both sexes     1000 persons  38924.00   \n",
       "1                Domestic supply quantity      1000 tonnes      0.00   \n",
       "2           Food supply (kcal/capita/day)  kcal/capita/day   3377.00   \n",
       "3  Protein supply quantity (g/capita/day)     g/capita/day     94.90   \n",
       "4      Fat supply quantity (g/capita/day)     g/capita/day     80.06   \n",
       "\n",
       "      Y2015     Y2016     Y2017     Y2018  \n",
       "0  39728.00  40551.00  41389.00  42228.00  \n",
       "1      0.00      0.00      0.00      0.00  \n",
       "2   3379.00   3372.00   3341.00   3322.00  \n",
       "3     94.35     94.72     92.82     91.83  \n",
       "4     79.36     77.40     80.19     77.28  "
      ]
     },
     "execution_count": 7,
     "metadata": {},
     "output_type": "execute_result"
    }
   ],
   "source": [
    "food_data = pd.read_csv(r'C:\\Users\\misso\\Downloads\\FoodBalanceSheets_E_Africa_NOFLAG.csv')\n",
    "food_data.head()"
   ]
  },
  {
   "cell_type": "code",
   "execution_count": 16,
   "id": "c84ce9e6-aac2-4103-8714-7b4e9d8c375c",
   "metadata": {},
   "outputs": [
    {
     "name": "stdout",
     "output_type": "stream",
     "text": [
      "<class 'pandas.core.frame.DataFrame'>\n",
      "RangeIndex: 60943 entries, 0 to 60942\n",
      "Data columns (total 12 columns):\n",
      " #   Column        Non-Null Count  Dtype  \n",
      "---  ------        --------------  -----  \n",
      " 0   Area Code     60943 non-null  int64  \n",
      " 1   Area          60943 non-null  object \n",
      " 2   Item Code     60943 non-null  int64  \n",
      " 3   Item          60943 non-null  object \n",
      " 4   Element Code  60943 non-null  int64  \n",
      " 5   Element       60943 non-null  object \n",
      " 6   Unit          60943 non-null  object \n",
      " 7   Y2014         59354 non-null  float64\n",
      " 8   Y2015         59395 non-null  float64\n",
      " 9   Y2016         59408 non-null  float64\n",
      " 10  Y2017         59437 non-null  float64\n",
      " 11  Y2018         59507 non-null  float64\n",
      "dtypes: float64(5), int64(3), object(4)\n",
      "memory usage: 5.6+ MB\n"
     ]
    }
   ],
   "source": [
    "food_data.info()"
   ]
  },
  {
   "cell_type": "code",
   "execution_count": 34,
   "id": "513a9a90-df05-4d3c-833f-3b0843914553",
   "metadata": {},
   "outputs": [
    {
     "name": "stderr",
     "output_type": "stream",
     "text": [
      "<ipython-input-34-35eda557ec23>:1: FutureWarning: Indexing with multiple keys (implicitly converted to a tuple of keys) will be deprecated, use a list instead.\n",
      "  food_data[food_data['Item'] == 'Animal fats'].groupby('Item')['Y2014','Y2017'].sum()\n"
     ]
    },
    {
     "data": {
      "text/html": [
       "<div>\n",
       "<style scoped>\n",
       "    .dataframe tbody tr th:only-of-type {\n",
       "        vertical-align: middle;\n",
       "    }\n",
       "\n",
       "    .dataframe tbody tr th {\n",
       "        vertical-align: top;\n",
       "    }\n",
       "\n",
       "    .dataframe thead th {\n",
       "        text-align: right;\n",
       "    }\n",
       "</style>\n",
       "<table border=\"1\" class=\"dataframe\">\n",
       "  <thead>\n",
       "    <tr style=\"text-align: right;\">\n",
       "      <th></th>\n",
       "      <th>Y2014</th>\n",
       "      <th>Y2017</th>\n",
       "    </tr>\n",
       "    <tr>\n",
       "      <th>Item</th>\n",
       "      <th></th>\n",
       "      <th></th>\n",
       "    </tr>\n",
       "  </thead>\n",
       "  <tbody>\n",
       "    <tr>\n",
       "      <th>Animal fats</th>\n",
       "      <td>209460.54</td>\n",
       "      <td>269617.53</td>\n",
       "    </tr>\n",
       "  </tbody>\n",
       "</table>\n",
       "</div>"
      ],
      "text/plain": [
       "                 Y2014      Y2017\n",
       "Item                             \n",
       "Animal fats  209460.54  269617.53"
      ]
     },
     "execution_count": 34,
     "metadata": {},
     "output_type": "execute_result"
    }
   ],
   "source": [
    "# What is the total sum of Animal Fat produced in 2014 and 2017 respectively?\n",
    "food_data[food_data['Item'] == 'Animal fats'].groupby('Item')['Y2014','Y2017'].sum()"
   ]
  },
  {
   "cell_type": "code",
   "execution_count": 9,
   "id": "a488a05e-a9b5-4320-ac88-84acc90cd87d",
   "metadata": {},
   "outputs": [
    {
     "data": {
      "text/html": [
       "<div>\n",
       "<style scoped>\n",
       "    .dataframe tbody tr th:only-of-type {\n",
       "        vertical-align: middle;\n",
       "    }\n",
       "\n",
       "    .dataframe tbody tr th {\n",
       "        vertical-align: top;\n",
       "    }\n",
       "\n",
       "    .dataframe thead th {\n",
       "        text-align: right;\n",
       "    }\n",
       "</style>\n",
       "<table border=\"1\" class=\"dataframe\">\n",
       "  <thead>\n",
       "    <tr style=\"text-align: right;\">\n",
       "      <th></th>\n",
       "      <th>Area Code</th>\n",
       "      <th>Item Code</th>\n",
       "      <th>Element Code</th>\n",
       "      <th>Y2014</th>\n",
       "      <th>Y2015</th>\n",
       "      <th>Y2016</th>\n",
       "      <th>Y2017</th>\n",
       "      <th>Y2018</th>\n",
       "    </tr>\n",
       "  </thead>\n",
       "  <tbody>\n",
       "    <tr>\n",
       "      <th>count</th>\n",
       "      <td>60943.000</td>\n",
       "      <td>60943.000</td>\n",
       "      <td>60943.000</td>\n",
       "      <td>59354.000</td>\n",
       "      <td>59395.000</td>\n",
       "      <td>59408.000</td>\n",
       "      <td>59437.000</td>\n",
       "      <td>59507.000</td>\n",
       "    </tr>\n",
       "    <tr>\n",
       "      <th>mean</th>\n",
       "      <td>134.266</td>\n",
       "      <td>2687.177</td>\n",
       "      <td>3814.856</td>\n",
       "      <td>134.196</td>\n",
       "      <td>135.236</td>\n",
       "      <td>136.555</td>\n",
       "      <td>140.918</td>\n",
       "      <td>143.758</td>\n",
       "    </tr>\n",
       "    <tr>\n",
       "      <th>std</th>\n",
       "      <td>72.606</td>\n",
       "      <td>146.056</td>\n",
       "      <td>2212.007</td>\n",
       "      <td>1567.664</td>\n",
       "      <td>1603.404</td>\n",
       "      <td>1640.007</td>\n",
       "      <td>1671.862</td>\n",
       "      <td>1710.783</td>\n",
       "    </tr>\n",
       "    <tr>\n",
       "      <th>min</th>\n",
       "      <td>4.000</td>\n",
       "      <td>2501.000</td>\n",
       "      <td>511.000</td>\n",
       "      <td>-1796.000</td>\n",
       "      <td>-3161.000</td>\n",
       "      <td>-3225.000</td>\n",
       "      <td>-1582.000</td>\n",
       "      <td>-3396.000</td>\n",
       "    </tr>\n",
       "    <tr>\n",
       "      <th>25%</th>\n",
       "      <td>74.000</td>\n",
       "      <td>2562.000</td>\n",
       "      <td>684.000</td>\n",
       "      <td>0.000</td>\n",
       "      <td>0.000</td>\n",
       "      <td>0.000</td>\n",
       "      <td>0.000</td>\n",
       "      <td>0.000</td>\n",
       "    </tr>\n",
       "    <tr>\n",
       "      <th>50%</th>\n",
       "      <td>136.000</td>\n",
       "      <td>2630.000</td>\n",
       "      <td>5142.000</td>\n",
       "      <td>0.090</td>\n",
       "      <td>0.080</td>\n",
       "      <td>0.080</td>\n",
       "      <td>0.100</td>\n",
       "      <td>0.070</td>\n",
       "    </tr>\n",
       "    <tr>\n",
       "      <th>75%</th>\n",
       "      <td>195.000</td>\n",
       "      <td>2775.000</td>\n",
       "      <td>5511.000</td>\n",
       "      <td>8.340</td>\n",
       "      <td>8.460</td>\n",
       "      <td>8.430</td>\n",
       "      <td>9.000</td>\n",
       "      <td>9.000</td>\n",
       "    </tr>\n",
       "    <tr>\n",
       "      <th>max</th>\n",
       "      <td>276.000</td>\n",
       "      <td>2961.000</td>\n",
       "      <td>5911.000</td>\n",
       "      <td>176405.000</td>\n",
       "      <td>181137.000</td>\n",
       "      <td>185960.000</td>\n",
       "      <td>190873.000</td>\n",
       "      <td>195875.000</td>\n",
       "    </tr>\n",
       "  </tbody>\n",
       "</table>\n",
       "</div>"
      ],
      "text/plain": [
       "       Area Code  Item Code  Element Code       Y2014       Y2015       Y2016  \\\n",
       "count  60943.000  60943.000     60943.000   59354.000   59395.000   59408.000   \n",
       "mean     134.266   2687.177      3814.856     134.196     135.236     136.555   \n",
       "std       72.606    146.056      2212.007    1567.664    1603.404    1640.007   \n",
       "min        4.000   2501.000       511.000   -1796.000   -3161.000   -3225.000   \n",
       "25%       74.000   2562.000       684.000       0.000       0.000       0.000   \n",
       "50%      136.000   2630.000      5142.000       0.090       0.080       0.080   \n",
       "75%      195.000   2775.000      5511.000       8.340       8.460       8.430   \n",
       "max      276.000   2961.000      5911.000  176405.000  181137.000  185960.000   \n",
       "\n",
       "            Y2017       Y2018  \n",
       "count   59437.000   59507.000  \n",
       "mean      140.918     143.758  \n",
       "std      1671.862    1710.783  \n",
       "min     -1582.000   -3396.000  \n",
       "25%         0.000       0.000  \n",
       "50%         0.100       0.070  \n",
       "75%         9.000       9.000  \n",
       "max    190873.000  195875.000  "
      ]
     },
     "execution_count": 9,
     "metadata": {},
     "output_type": "execute_result"
    }
   ],
   "source": [
    "# What is the mean and standard deviation across the whole dataset for the year 2015 to 3 decimal places?\n",
    "food_data.describe().round(3)"
   ]
  },
  {
   "cell_type": "code",
   "execution_count": 10,
   "id": "f7e80ecc-8c62-46d0-9eca-d65442fdd387",
   "metadata": {},
   "outputs": [
    {
     "data": {
      "text/plain": [
       "Area Code          0\n",
       "Area               0\n",
       "Item Code          0\n",
       "Item               0\n",
       "Element Code       0\n",
       "Element            0\n",
       "Unit               0\n",
       "Y2014           1589\n",
       "Y2015           1548\n",
       "Y2016           1535\n",
       "Y2017           1506\n",
       "Y2018           1436\n",
       "dtype: int64"
      ]
     },
     "execution_count": 10,
     "metadata": {},
     "output_type": "execute_result"
    }
   ],
   "source": [
    "# What is the total number and percentage of missing data in 2016 to 2 decimal places?\n",
    "food_data.isnull().sum()"
   ]
  },
  {
   "cell_type": "code",
   "execution_count": 11,
   "id": "be2e7255-c1f8-4322-888c-02e72a27e091",
   "metadata": {},
   "outputs": [
    {
     "name": "stdout",
     "output_type": "stream",
     "text": [
      "percentage of missing rows = 2.5187470259094566%\n",
      "in 2 decimal places---2.52%\n"
     ]
    }
   ],
   "source": [
    "# What is the total number and percentage of missing data in 2016 to 2 decimal places?\n",
    "missing_percent = (1535/60943) * 100\n",
    "print('percentage of missing rows = '+str(missing_percent)+'%')\n",
    "print('in 2 decimal places---'+str(round(missing_percent,2))+'%')"
   ]
  },
  {
   "cell_type": "code",
   "execution_count": 12,
   "id": "bd442684-2526-43a0-9483-441da999c9d3",
   "metadata": {},
   "outputs": [
    {
     "data": {
      "text/html": [
       "<div>\n",
       "<style scoped>\n",
       "    .dataframe tbody tr th:only-of-type {\n",
       "        vertical-align: middle;\n",
       "    }\n",
       "\n",
       "    .dataframe tbody tr th {\n",
       "        vertical-align: top;\n",
       "    }\n",
       "\n",
       "    .dataframe thead th {\n",
       "        text-align: right;\n",
       "    }\n",
       "</style>\n",
       "<table border=\"1\" class=\"dataframe\">\n",
       "  <thead>\n",
       "    <tr style=\"text-align: right;\">\n",
       "      <th></th>\n",
       "      <th>Area Code</th>\n",
       "      <th>Item Code</th>\n",
       "      <th>Element Code</th>\n",
       "      <th>Y2014</th>\n",
       "      <th>Y2015</th>\n",
       "      <th>Y2016</th>\n",
       "      <th>Y2017</th>\n",
       "      <th>Y2018</th>\n",
       "    </tr>\n",
       "  </thead>\n",
       "  <tbody>\n",
       "    <tr>\n",
       "      <th>Area Code</th>\n",
       "      <td>1.000000</td>\n",
       "      <td>-0.005159</td>\n",
       "      <td>-0.000209</td>\n",
       "      <td>0.006164</td>\n",
       "      <td>0.005472</td>\n",
       "      <td>0.005247</td>\n",
       "      <td>0.005006</td>\n",
       "      <td>0.005665</td>\n",
       "    </tr>\n",
       "    <tr>\n",
       "      <th>Item Code</th>\n",
       "      <td>-0.005159</td>\n",
       "      <td>1.000000</td>\n",
       "      <td>-0.024683</td>\n",
       "      <td>0.021722</td>\n",
       "      <td>0.020857</td>\n",
       "      <td>0.020109</td>\n",
       "      <td>0.021494</td>\n",
       "      <td>0.021314</td>\n",
       "    </tr>\n",
       "    <tr>\n",
       "      <th>Element Code</th>\n",
       "      <td>-0.000209</td>\n",
       "      <td>-0.024683</td>\n",
       "      <td>1.000000</td>\n",
       "      <td>0.024457</td>\n",
       "      <td>0.023889</td>\n",
       "      <td>0.023444</td>\n",
       "      <td>0.024254</td>\n",
       "      <td>0.024279</td>\n",
       "    </tr>\n",
       "    <tr>\n",
       "      <th>Y2014</th>\n",
       "      <td>0.006164</td>\n",
       "      <td>0.021722</td>\n",
       "      <td>0.024457</td>\n",
       "      <td>1.000000</td>\n",
       "      <td>0.994647</td>\n",
       "      <td>0.996081</td>\n",
       "      <td>0.995230</td>\n",
       "      <td>0.994872</td>\n",
       "    </tr>\n",
       "    <tr>\n",
       "      <th>Y2015</th>\n",
       "      <td>0.005472</td>\n",
       "      <td>0.020857</td>\n",
       "      <td>0.023889</td>\n",
       "      <td>0.994647</td>\n",
       "      <td>1.000000</td>\n",
       "      <td>0.995739</td>\n",
       "      <td>0.988048</td>\n",
       "      <td>0.988208</td>\n",
       "    </tr>\n",
       "    <tr>\n",
       "      <th>Y2016</th>\n",
       "      <td>0.005247</td>\n",
       "      <td>0.020109</td>\n",
       "      <td>0.023444</td>\n",
       "      <td>0.996081</td>\n",
       "      <td>0.995739</td>\n",
       "      <td>1.000000</td>\n",
       "      <td>0.992785</td>\n",
       "      <td>0.992757</td>\n",
       "    </tr>\n",
       "    <tr>\n",
       "      <th>Y2017</th>\n",
       "      <td>0.005006</td>\n",
       "      <td>0.021494</td>\n",
       "      <td>0.024254</td>\n",
       "      <td>0.995230</td>\n",
       "      <td>0.988048</td>\n",
       "      <td>0.992785</td>\n",
       "      <td>1.000000</td>\n",
       "      <td>0.998103</td>\n",
       "    </tr>\n",
       "    <tr>\n",
       "      <th>Y2018</th>\n",
       "      <td>0.005665</td>\n",
       "      <td>0.021314</td>\n",
       "      <td>0.024279</td>\n",
       "      <td>0.994872</td>\n",
       "      <td>0.988208</td>\n",
       "      <td>0.992757</td>\n",
       "      <td>0.998103</td>\n",
       "      <td>1.000000</td>\n",
       "    </tr>\n",
       "  </tbody>\n",
       "</table>\n",
       "</div>"
      ],
      "text/plain": [
       "              Area Code  Item Code  Element Code     Y2014     Y2015  \\\n",
       "Area Code      1.000000  -0.005159     -0.000209  0.006164  0.005472   \n",
       "Item Code     -0.005159   1.000000     -0.024683  0.021722  0.020857   \n",
       "Element Code  -0.000209  -0.024683      1.000000  0.024457  0.023889   \n",
       "Y2014          0.006164   0.021722      0.024457  1.000000  0.994647   \n",
       "Y2015          0.005472   0.020857      0.023889  0.994647  1.000000   \n",
       "Y2016          0.005247   0.020109      0.023444  0.996081  0.995739   \n",
       "Y2017          0.005006   0.021494      0.024254  0.995230  0.988048   \n",
       "Y2018          0.005665   0.021314      0.024279  0.994872  0.988208   \n",
       "\n",
       "                 Y2016     Y2017     Y2018  \n",
       "Area Code     0.005247  0.005006  0.005665  \n",
       "Item Code     0.020109  0.021494  0.021314  \n",
       "Element Code  0.023444  0.024254  0.024279  \n",
       "Y2014         0.996081  0.995230  0.994872  \n",
       "Y2015         0.995739  0.988048  0.988208  \n",
       "Y2016         1.000000  0.992785  0.992757  \n",
       "Y2017         0.992785  1.000000  0.998103  \n",
       "Y2018         0.992757  0.998103  1.000000  "
      ]
     },
     "execution_count": 12,
     "metadata": {},
     "output_type": "execute_result"
    }
   ],
   "source": [
    "# Which year had the highest correlation with ‘Element Code’? \n",
    "food_data_corr = food_data.corr()\n",
    "food_data_corr"
   ]
  },
  {
   "cell_type": "code",
   "execution_count": 17,
   "id": "090f07a0-a653-4cec-9890-e3d6e7d3ae5b",
   "metadata": {},
   "outputs": [
    {
     "data": {
      "text/plain": [
       "Item Code      -0.024683\n",
       "Area Code      -0.000209\n",
       "Y2016           0.023444\n",
       "Y2015           0.023889\n",
       "Y2017           0.024254\n",
       "Y2018           0.024279\n",
       "Y2014           0.024457\n",
       "Element Code    1.000000\n",
       "Name: Element Code, dtype: float64"
      ]
     },
     "execution_count": 17,
     "metadata": {},
     "output_type": "execute_result"
    }
   ],
   "source": [
    "# sorting the correlation values for 'element code' in ascending order\n",
    "sort_corr = food_data_corr['Element Code'].sort_values()\n",
    "sort_corr"
   ]
  },
  {
   "cell_type": "code",
   "execution_count": 29,
   "id": "64d42ac5-efa3-44ea-a15b-adc077d89ae9",
   "metadata": {},
   "outputs": [
    {
     "name": "stdout",
     "output_type": "stream",
     "text": [
      "                                        Area Code  Item Code  Element Code  \\\n",
      "Element                                                                      \n",
      "Domestic supply quantity                   708993   14197445      28068795   \n",
      "Export Quantity                            599910   11840553      26026133   \n",
      "Fat supply quantity (g/capita/day)         675050   13535000       3435732   \n",
      "Feed                                       176272    3538507       7282199   \n",
      "Food                                       663295   13285035      25406622   \n",
      "Food supply (kcal/capita/day)              674057   13511060       3329296   \n",
      "Food supply quantity (kg/capita/yr)        658446   13185401       3163725   \n",
      "Import Quantity                            688174   13795966      28834929   \n",
      "Losses                                     274353    5424803      10292107   \n",
      "Other uses (non-food)                      235554    4729749       8926728   \n",
      "Processing                                 271940    5350416      10313310   \n",
      "Production                                 526751   10450053      21388191   \n",
      "Protein supply quantity (g/capita/day)     675050   13535000       3385502   \n",
      "Residuals                                  623271   12421089      24066350   \n",
      "Seed                                       103537    2035933       4211574   \n",
      "Stock Variation                            571566   11329527      21464704   \n",
      "Total Population - Both sexes                6020     112545         22995   \n",
      "Tourist consumption                         50308    1486528       2869905   \n",
      "\n",
      "                                             Y2014       Y2015       Y2016  \\\n",
      "Element                                                                      \n",
      "Domestic supply quantity                1996716.35  2021493.55  2044842.70   \n",
      "Export Quantity                          150020.64   157614.47   151920.46   \n",
      "Fat supply quantity (g/capita/day)        10225.56    10235.74    10102.77   \n",
      "Feed                                     216927.89   225050.22   228958.65   \n",
      "Food                                    1212332.49  1232361.10  1247022.17   \n",
      "Food supply (kcal/capita/day)            454257.00   453383.00   451810.00   \n",
      "Food supply quantity (kg/capita/yr)       49650.63    49345.13    48985.28   \n",
      "Import Quantity                          274144.48   267018.46   286582.78   \n",
      "Losses                                   153223.00   155439.00   157787.00   \n",
      "Other uses (non-food)                     78718.13    66254.41    69563.68   \n",
      "Processing                               282923.00   287929.00   280631.00   \n",
      "Production                              1931287.75  1947019.39  1943537.15   \n",
      "Protein supply quantity (g/capita/day)    11836.46    11833.95    11779.69   \n",
      "Residuals                                 30149.00    30045.00    37224.00   \n",
      "Seed                                      21922.92    23976.82    23389.20   \n",
      "Stock Variation                           58749.83    34910.99    33140.12   \n",
      "Total Population - Both sexes           1031585.00  1058081.00  1085107.00   \n",
      "Tourist consumption                         416.00      349.00       89.00   \n",
      "\n",
      "                                             Y2017       Y2018  \n",
      "Element                                                         \n",
      "Domestic supply quantity                2088198.10  2161192.10  \n",
      "Export Quantity                          182338.80   181594.80  \n",
      "Fat supply quantity (g/capita/day)        10253.84    10258.69  \n",
      "Feed                                     223705.68   233489.68  \n",
      "Food                                    1258888.28  1303841.28  \n",
      "Food supply (kcal/capita/day)            454681.00   455261.00  \n",
      "Food supply quantity (kg/capita/yr)       48690.04    49056.85  \n",
      "Import Quantity                          294559.09   287997.09  \n",
      "Losses                                   160614.00   163902.00  \n",
      "Other uses (non-food)                     91645.97    91300.97  \n",
      "Processing                               292836.00   308429.00  \n",
      "Production                              2030056.89  2075072.89  \n",
      "Protein supply quantity (g/capita/day)    11842.45    11833.56  \n",
      "Residuals                                 35500.00    34864.00  \n",
      "Seed                                      24870.14    25263.14  \n",
      "Stock Variation                           54316.91    20577.91  \n",
      "Total Population - Both sexes           1112641.00  1140605.00  \n",
      "Tourist consumption                          91.00       90.00  \n"
     ]
    }
   ],
   "source": [
    "# What year has the highest sum of Import Quantity?\n",
    "sum_food_data = food_data.groupby('Element').sum()\n",
    "print(sum_food_data)"
   ]
  },
  {
   "cell_type": "code",
   "execution_count": 34,
   "id": "6e44f4c7-35ed-4fcf-a33d-694d6c607b1b",
   "metadata": {},
   "outputs": [
    {
     "name": "stdout",
     "output_type": "stream",
     "text": [
      "                                             Y2018\n",
      "Element                                           \n",
      "Domestic supply quantity                2161192.10\n",
      "Export Quantity                          181594.80\n",
      "Fat supply quantity (g/capita/day)        10258.69\n",
      "Feed                                     233489.68\n",
      "Food                                    1303841.28\n",
      "Food supply (kcal/capita/day)            455261.00\n",
      "Food supply quantity (kg/capita/yr)       49056.85\n",
      "Import Quantity                          287997.09\n",
      "Losses                                   163902.00\n",
      "Other uses (non-food)                     91300.97\n",
      "Processing                               308429.00\n",
      "Production                              2075072.89\n",
      "Protein supply quantity (g/capita/day)    11833.56\n",
      "Residuals                                 34864.00\n",
      "Seed                                      25263.14\n",
      "Stock Variation                           20577.91\n",
      "Total Population - Both sexes           1140605.00\n",
      "Tourist consumption                          90.00\n"
     ]
    },
    {
     "name": "stderr",
     "output_type": "stream",
     "text": [
      "<ipython-input-34-d7a8f1a6f00f>:2: FutureWarning: Indexing with multiple keys (implicitly converted to a tuple of keys) will be deprecated, use a list instead.\n",
      "  food_sum = food_data.groupby('Element')['Y2018','Element'].sum()\n"
     ]
    }
   ],
   "source": [
    "# Which of these elements had the highest sum in 2018\n",
    "food_sum = food_data.groupby('Element')['Y2018','Element'].sum()\n",
    "print(food_sum)"
   ]
  },
  {
   "cell_type": "code",
   "execution_count": 31,
   "id": "1dcb3d7d-7823-4dc7-9c06-d82544f96db9",
   "metadata": {},
   "outputs": [
    {
     "data": {
      "text/plain": [
       "Y2018    Domestic supply quantity\n",
       "dtype: object"
      ]
     },
     "execution_count": 31,
     "metadata": {},
     "output_type": "execute_result"
    }
   ],
   "source": [
    "# Which of these elements had the highest sum in 2018?\n",
    "food_sum.idxmax()"
   ]
  },
  {
   "cell_type": "code",
   "execution_count": 39,
   "id": "29cd2a5a-0616-4904-9e93-e12da8b52707",
   "metadata": {},
   "outputs": [
    {
     "data": {
      "text/plain": [
       "Element\n",
       "Tourist consumption                            90.00\n",
       "Fat supply quantity (g/capita/day)          10258.69\n",
       "Protein supply quantity (g/capita/day)      11833.56\n",
       "Stock Variation                             20577.91\n",
       "Seed                                        25263.14\n",
       "Residuals                                   34864.00\n",
       "Food supply quantity (kg/capita/yr)         49056.85\n",
       "Other uses (non-food)                       91300.97\n",
       "Losses                                     163902.00\n",
       "Export Quantity                            181594.80\n",
       "Feed                                       233489.68\n",
       "Import Quantity                            287997.09\n",
       "Processing                                 308429.00\n",
       "Food supply (kcal/capita/day)              455261.00\n",
       "Total Population - Both sexes             1140605.00\n",
       "Food                                      1303841.28\n",
       "Production                                2075072.89\n",
       "Domestic supply quantity                  2161192.10\n",
       "Name: Y2018, dtype: float64"
      ]
     },
     "execution_count": 39,
     "metadata": {},
     "output_type": "execute_result"
    }
   ],
   "source": [
    "# Which of these elements had the 3rd lowest sum in 2018?\n",
    "sort_sum = food_sum['Y2018'].sort_values()\n",
    "sort_sum"
   ]
  },
  {
   "cell_type": "code",
   "execution_count": 40,
   "id": "248c71e8-eceb-42b0-88d0-2f3a651ff242",
   "metadata": {},
   "outputs": [
    {
     "name": "stdout",
     "output_type": "stream",
     "text": [
      "third lowest correlation ---- Element\n",
      "Protein supply quantity (g/capita/day)    11833.56\n",
      "Name: Y2018, dtype: float64\n"
     ]
    }
   ],
   "source": [
    "# Which of these elements had the 3rd lowest sum in 2018?\n",
    "third = sort_sum[2:3]\n",
    "print('third lowest correlation ---- '+ str(third))"
   ]
  },
  {
   "cell_type": "code",
   "execution_count": 52,
   "id": "5538f744-66f4-4f98-a771-0b0e89ebe111",
   "metadata": {},
   "outputs": [
    {
     "name": "stdout",
     "output_type": "stream",
     "text": [
      "36238.29\n"
     ]
    }
   ],
   "source": [
    "# What is the total Import Quantity in Algeria in 2018?\n",
    "imports = food_data[food_data['Element']=='Import Quantity']\n",
    "imports.head()\n",
    "import_quantity_2018 = imports[imports['Area']=='Algeria']['Y2018'].sum()\n",
    "print(import_quantity_2018)"
   ]
  },
  {
   "cell_type": "code",
   "execution_count": 60,
   "id": "c8a251b0-1e77-4559-b118-69519c57a821",
   "metadata": {},
   "outputs": [
    {
     "data": {
      "text/plain": [
       "array(['Algeria', 'Angola', 'Benin', 'Botswana', 'Burkina Faso',\n",
       "       'Cabo Verde', 'Cameroon', 'Central African Republic', 'Chad',\n",
       "       'Comoros', 'Congo', \"C�te d'Ivoire\", 'Djibouti', 'Egypt',\n",
       "       'Eswatini', 'Ethiopia', 'Ethiopia PDR', 'Gabon', 'Gambia', 'Ghana',\n",
       "       'Guinea', 'Guinea-Bissau', 'Kenya', 'Lesotho', 'Liberia',\n",
       "       'Madagascar', 'Malawi', 'Mali', 'Mauritania', 'Mauritius',\n",
       "       'Morocco', 'Mozambique', 'Namibia', 'Niger', 'Nigeria', 'Rwanda',\n",
       "       'Sao Tome and Principe', 'Senegal', 'Seychelles', 'Sierra Leone',\n",
       "       'South Africa', 'Sudan', 'Sudan (former)', 'Togo', 'Tunisia',\n",
       "       'Uganda', 'United Republic of Tanzania', 'Zambia', 'Zimbabwe'],\n",
       "      dtype=object)"
      ]
     },
     "execution_count": 60,
     "metadata": {},
     "output_type": "execute_result"
    }
   ],
   "source": [
    "# What is the total number of unique countries in the dataset?\n",
    "food_data['Area'].unique() "
   ]
  },
  {
   "cell_type": "code",
   "execution_count": 59,
   "id": "d1e9a185-ff9c-436a-84aa-32ecb4e5081a",
   "metadata": {},
   "outputs": [
    {
     "data": {
      "text/plain": [
       "49"
      ]
     },
     "execution_count": 59,
     "metadata": {},
     "output_type": "execute_result"
    }
   ],
   "source": [
    "len(food_data['Area'].unique())"
   ]
  },
  {
   "cell_type": "code",
   "execution_count": null,
   "id": "6b79e629-e221-4cfe-b63d-ef66b7bf83e3",
   "metadata": {},
   "outputs": [],
   "source": []
  },
  {
   "cell_type": "code",
   "execution_count": null,
   "id": "17854eaa-a917-4aec-8000-ac6e04345bc3",
   "metadata": {},
   "outputs": [],
   "source": []
  }
 ],
 "metadata": {
  "kernelspec": {
   "display_name": "Python 3",
   "language": "python",
   "name": "python3"
  },
  "language_info": {
   "codemirror_mode": {
    "name": "ipython",
    "version": 3
   },
   "file_extension": ".py",
   "mimetype": "text/x-python",
   "name": "python",
   "nbconvert_exporter": "python",
   "pygments_lexer": "ipython3",
   "version": "3.8.8"
  }
 },
 "nbformat": 4,
 "nbformat_minor": 5
}
